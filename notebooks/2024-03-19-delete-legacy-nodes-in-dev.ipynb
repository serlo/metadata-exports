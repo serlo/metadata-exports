{
 "cells": [
  {
   "cell_type": "code",
   "execution_count": 1,
   "id": "71c6b292-19c0-44f0-b2a9-b41c5de824a6",
   "metadata": {
    "tags": []
   },
   "outputs": [
    {
     "name": "stdin",
     "output_type": "stream",
     "text": [
      "CLIENT_ID:  ········\n",
      "CLIENT_SECRET:  ········\n"
     ]
    }
   ],
   "source": [
    "from getpass import getpass\n",
    "\n",
    "CLIENT_ID = getpass(\"CLIENT_ID: \")\n",
    "CLIENT_SECRET = getpass(\"CLIENT_SECRET: \")"
   ]
  },
  {
   "cell_type": "code",
   "execution_count": 2,
   "id": "c98963ee-9b77-472f-b1d1-e4d590679ce9",
   "metadata": {
    "tags": []
   },
   "outputs": [],
   "source": [
    "import sys\n",
    "import os\n",
    "\n",
    "sys.path.append(os.path.join(os.getcwd(), '..'))\n",
    "\n",
    "from datenraum import *"
   ]
  },
  {
   "cell_type": "code",
   "execution_count": 3,
   "id": "fffb9c43-380a-4dac-940f-55eb01744078",
   "metadata": {
    "tags": []
   },
   "outputs": [],
   "source": [
    "session = Session(Environment.DEV, Credentials(CLIENT_ID, CLIENT_SECRET))\n",
    "client = Client(session)\n",
    "source = client.create_source(slug=\"serlo\", name=\"Serlo Education e.V.\", organization=\"Serlo Education e.V.\")"
   ]
  },
  {
   "cell_type": "code",
   "execution_count": 4,
   "id": "5e709b17-fd28-4198-a940-19850d32bb66",
   "metadata": {
    "tags": []
   },
   "outputs": [
    {
     "name": "stdout",
     "output_type": "stream",
     "text": [
      "9253 nodes downloaded from Datenraum of Serlo\n"
     ]
    }
   ],
   "source": [
    "def get_nodes():\n",
    "    nodes = []\n",
    "\n",
    "    while True:\n",
    "        new_nodes = source.get_nodes(offset=len(nodes))\n",
    "\n",
    "        nodes.extend(new_nodes)\n",
    "\n",
    "        if len(new_nodes) == 0:\n",
    "            break\n",
    "    \n",
    "    return nodes\n",
    "\n",
    "nodes = get_nodes()\n",
    "print(f\"{len(nodes)} nodes downloaded from Datenraum of Serlo\")"
   ]
  },
  {
   "cell_type": "code",
   "execution_count": 10,
   "id": "ecda4e2b-ba1d-4e5f-ba3a-a10937908c8e",
   "metadata": {
    "tags": []
   },
   "outputs": [
    {
     "name": "stdout",
     "output_type": "stream",
     "text": [
      "ERROR: Could not delete 2190a68c-05ef-4dea-8e38-c0c576ece19c\n",
      "Status code:  404\n",
      "Response text:  {\"type\":\"https://tools.ietf.org/html/rfc9110#section-15.5.5\",\"title\":\"Not Found\",\"status\":404,\"traceId\":\"00-ca9f93ca46f5e75329dab6ba078068f8-71adb37287b9402b-00\"}\n",
      "\n",
      "ERROR: Could not delete 6682404d-a85a-4e9c-a386-e9f1c33bb97a\n",
      "Status code:  404\n",
      "Response text:  {\"type\":\"https://tools.ietf.org/html/rfc9110#section-15.5.5\",\"title\":\"Not Found\",\"status\":404,\"traceId\":\"00-d5bfc33fdad38773f348d954c1af7d0f-03aa5a93c14ab834-00\"}\n",
      "\n",
      "ERROR: Could not delete b27b3ae3-9ab6-4109-a54a-a15e301de29f\n",
      "Status code:  404\n",
      "Response text:  {\"type\":\"https://tools.ietf.org/html/rfc9110#section-15.5.5\",\"title\":\"Not Found\",\"status\":404,\"traceId\":\"00-6f361b923823545c9e0c08609dcd034b-d905d2a8df7267a9-00\"}\n",
      "\n",
      "ERROR: Could not delete 81e75628-be82-422b-8ad7-46717c4a0f83\n",
      "Status code:  404\n",
      "Response text:  {\"type\":\"https://tools.ietf.org/html/rfc9110#section-15.5.5\",\"title\":\"Not Found\",\"status\":404,\"traceId\":\"00-9597b02acc972e3d17d7e29482a450cc-d386aaa872af3594-00\"}\n",
      "\n",
      "ERROR: Could not delete 27c6e6df-52cd-46ae-87b6-e738930c830a\n",
      "Status code:  404\n",
      "Response text:  {\"type\":\"https://tools.ietf.org/html/rfc9110#section-15.5.5\",\"title\":\"Not Found\",\"status\":404,\"traceId\":\"00-9e93f1bbe515bc09600432bcfb9670e2-e2fb24d4d500544e-00\"}\n",
      "\n",
      "ERROR: Could not delete 47339974-ed3a-4c07-bd5a-5336e95506c8\n",
      "Status code:  404\n",
      "Response text:  {\"type\":\"https://tools.ietf.org/html/rfc9110#section-15.5.5\",\"title\":\"Not Found\",\"status\":404,\"traceId\":\"00-51959f3a96e24dc1117aeac0f0353733-06ffc787c5977286-00\"}\n",
      "\n",
      "ERROR: Could not delete 7fa8cd5a-74f1-4cc4-845e-42cd7f53d2c6\n",
      "Status code:  404\n",
      "Response text:  {\"type\":\"https://tools.ietf.org/html/rfc9110#section-15.5.5\",\"title\":\"Not Found\",\"status\":404,\"traceId\":\"00-0b725221afc4184cdcf322b2fbaa1529-944255a0e7815174-00\"}\n",
      "\n",
      "ERROR: Could not delete fb5927c6-bec1-4028-8283-0dab0f1c9c98\n",
      "Status code:  404\n",
      "Response text:  {\"type\":\"https://tools.ietf.org/html/rfc9110#section-15.5.5\",\"title\":\"Not Found\",\"status\":404,\"traceId\":\"00-c3a147ed42acd739f66b75c3b75b2ddd-285be2bb98e93c45-00\"}\n",
      "\n",
      "ERROR: Could not delete 19435285-50ee-4f27-8deb-4c3939d57894\n",
      "Status code:  404\n",
      "Response text:  {\"type\":\"https://tools.ietf.org/html/rfc9110#section-15.5.5\",\"title\":\"Not Found\",\"status\":404,\"traceId\":\"00-514074a582ca1bceb444846d6552d75a-0c59bae6b9238372-00\"}\n",
      "\n",
      "ERROR: Could not delete eb5a9196-31aa-4450-a382-f2415a1f5176\n",
      "Status code:  404\n",
      "Response text:  {\"type\":\"https://tools.ietf.org/html/rfc9110#section-15.5.5\",\"title\":\"Not Found\",\"status\":404,\"traceId\":\"00-f674dd77ca6dbb41752c45d0f7a78083-a91887f583868585-00\"}\n",
      "\n",
      "ERROR: Could not delete d258731a-ba7d-496f-8031-b91189131151\n",
      "Status code:  404\n",
      "Response text:  {\"type\":\"https://tools.ietf.org/html/rfc9110#section-15.5.5\",\"title\":\"Not Found\",\"status\":404,\"traceId\":\"00-c89435855a5b99bbc749419f2302e314-cdf6b65a45a7dfc5-00\"}\n",
      "\n",
      "ERROR: Could not delete 05f2393c-b061-4f9b-abf0-be3f1ed5ad44\n",
      "Status code:  404\n",
      "Response text:  {\"type\":\"https://tools.ietf.org/html/rfc9110#section-15.5.5\",\"title\":\"Not Found\",\"status\":404,\"traceId\":\"00-668e61ef6066ff30d7914497384ab5c6-499cf233128065a7-00\"}\n",
      "\n",
      "ERROR: Could not delete a7e8b785-a48e-49e5-a230-23d5261307ca\n",
      "Status code:  404\n",
      "Response text:  {\"type\":\"https://tools.ietf.org/html/rfc9110#section-15.5.5\",\"title\":\"Not Found\",\"status\":404,\"traceId\":\"00-d1f879dca62ad3011386fbcdc85884bf-8dc869d7173783b2-00\"}\n",
      "\n"
     ]
    }
   ],
   "source": [
    "from utils import has_description\n",
    "\n",
    "legacy_nodes = [node for node in nodes if \"Amb\" not in node[\"metadata\"] or not has_description(node) or not has_description(node[\"metadata\"][\"Amb\"])]\n",
    "\n",
    "for node in legacy_nodes:\n",
    "    source.delete_node(node[\"id\"])"
   ]
  },
  {
   "cell_type": "code",
   "execution_count": null,
   "id": "0a3bfc31-b2f7-4961-81de-7d4001228185",
   "metadata": {
    "tags": []
   },
   "outputs": [],
   "source": [
    "nodes = get_nodes()\n",
    "print(f\"{len(nodes)} nodes downloaded from Datenraum of Serlo\")"
   ]
  }
 ],
 "metadata": {
  "kernelspec": {
   "display_name": "Python 3 (ipykernel)",
   "language": "python",
   "name": "python3"
  },
  "language_info": {
   "codemirror_mode": {
    "name": "ipython",
    "version": 3
   },
   "file_extension": ".py",
   "mimetype": "text/x-python",
   "name": "python",
   "nbconvert_exporter": "python",
   "pygments_lexer": "ipython3",
   "version": "3.11.4"
  }
 },
 "nbformat": 4,
 "nbformat_minor": 5
}
