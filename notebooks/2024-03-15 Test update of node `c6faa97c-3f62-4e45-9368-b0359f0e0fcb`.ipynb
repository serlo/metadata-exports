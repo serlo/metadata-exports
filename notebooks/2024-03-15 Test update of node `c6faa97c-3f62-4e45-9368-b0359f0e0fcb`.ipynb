{
 "cells": [
  {
   "cell_type": "markdown",
   "id": "ffa0927c",
   "metadata": {},
   "source": [
    "# Needed variables"
   ]
  },
  {
   "cell_type": "code",
   "execution_count": 2,
   "id": "6a46392c",
   "metadata": {},
   "outputs": [
    {
     "name": "stdout",
     "output_type": "stream",
     "text": [
      "CLIENT_ID: ········\n",
      "CLIENT_SECRET: ········\n"
     ]
    }
   ],
   "source": [
    "from getpass import getpass\n",
    "\n",
    "CLIENT_ID = getpass(\"CLIENT_ID: \")\n",
    "CLIENT_SECRET = getpass(\"CLIENT_SECRET: \")\n",
    "BASE_URL = \"https://dam.demo.meinbildungsraum.de/datenraum\""
   ]
  },
  {
   "cell_type": "markdown",
   "id": "619d328d",
   "metadata": {},
   "source": [
    "# Helper function to retrieve a new token"
   ]
  },
  {
   "cell_type": "code",
   "execution_count": 8,
   "id": "0ef8cd6f",
   "metadata": {},
   "outputs": [
    {
     "name": "stdout",
     "output_type": "stream",
     "text": [
      "{\"_links\":{\"self\":{\"href\":\"https://dam.demo.meinbildungsraum.de/datenraum/api/core/sources/d8f481cb-3be6-4a91-9f5b-c22b35b918ae\"}},\"id\":\"d8f481cb-3be6-4a91-9f5b-c22b35b918ae\",\"organization\":\"Serlo Education e.V.\",\"name\":\"Serlo Education e.V.\",\"slug\":\"serlo\",\"lastUpdated\":null}"
     ]
    }
   ],
   "source": [
    "import requests\n",
    "\n",
    "from requests.auth import HTTPBasicAuth\n",
    "\n",
    "def get_token():\n",
    "    url = \"https://aai.demo.meinbildungsraum.de/realms/nbp-aai/protocol/openid-connect/token\"\n",
    "\n",
    "    response = requests.post(\n",
    "        url,\n",
    "        auth=HTTPBasicAuth(CLIENT_ID, CLIENT_SECRET),\n",
    "        headers={\"Content-Type\": \"application/x-www-form-urlencoded\"},\n",
    "        data={\"grant_type\": \"client_credentials\"},\n",
    "    )\n",
    "\n",
    "    assert response.status_code == 200\n",
    "\n",
    "    return response.json()[\"access_token\"]\n",
    "\n",
    "# Example call to get the source for the slug `serlo`\n",
    "\n",
    "!curl -X 'GET' \\\n",
    "  '{BASE_URL}/api/core/sources/slug/serlo' \\\n",
    "  -H 'accept: application/json' \\\n",
    "  -H 'Authorization: Bearer {get_token()}'"
   ]
  },
  {
   "cell_type": "markdown",
   "id": "bc897561",
   "metadata": {},
   "source": [
    "# Record in question"
   ]
  },
  {
   "cell_type": "code",
   "execution_count": 11,
   "id": "9fed0abf",
   "metadata": {},
   "outputs": [],
   "source": [
    "record = {\n",
    "    \"id\": \"https://serlo.org/178983\",\n",
    "    \"name\": \"Aufgabe aus \\\"Teil A\\\"\",\n",
    "    \"type\": [\n",
    "      \"LearningResource\",\n",
    "      \"Quiz\"\n",
    "    ],\n",
    "    \"about\": [\n",
    "      {\n",
    "        \"id\": \"http://w3id.org/kim/schulfaecher/s1017\",\n",
    "        \"type\": \"Concept\",\n",
    "        \"inScheme\": {\n",
    "          \"id\": \"http://w3id.org/kim/schulfaecher/\"\n",
    "        }\n",
    "      }\n",
    "    ],\n",
    "    \"image\": \"https://de.serlo.org/_assets/img/meta/mathe.png\",\n",
    "    \"creator\": [\n",
    "      {\n",
    "        \"id\": \"https://serlo.org/73435\",\n",
    "        \"name\": \"kathongi\",\n",
    "        \"type\": \"Person\",\n",
    "        \"affiliation\": {\n",
    "          \"id\": \"https://serlo.org/organization\",\n",
    "          \"name\": \"Serlo Education e.V.\",\n",
    "          \"type\": \"Organization\"\n",
    "        }\n",
    "      }\n",
    "    ],\n",
    "    \"license\": {\n",
    "      \"id\": \"https://creativecommons.org/licenses/by-sa/4.0/deed.de\"\n",
    "    },\n",
    "    \"version\": {\n",
    "      \"id\": \"https://serlo.org/178986\"\n",
    "    },\n",
    "    \"@context\": [\n",
    "      \"https://w3id.org/kim/amb/context.jsonld\",\n",
    "      \"https://schema.org\",\n",
    "      {\n",
    "        \"@language\": \"de\"\n",
    "      }\n",
    "    ],\n",
    "    \"isPartOf\": [\n",
    "      {\n",
    "        \"id\": \"https://serlo.org/178171\"\n",
    "      }\n",
    "    ],\n",
    "    \"publisher\": [\n",
    "      {\n",
    "        \"id\": \"https://serlo.org/organization\",\n",
    "        \"name\": \"Serlo Education e.V.\",\n",
    "        \"type\": \"Organization\"\n",
    "      }\n",
    "    ],\n",
    "    \"identifier\": {\n",
    "      \"type\": \"PropertyValue\",\n",
    "      \"value\": 178983,\n",
    "      \"propertyID\": \"UUID\"\n",
    "    },\n",
    "    \"inLanguage\": [\n",
    "      \"de\"\n",
    "    ],\n",
    "    \"maintainer\": {\n",
    "      \"id\": \"https://serlo.org/organization\",\n",
    "      \"name\": \"Serlo Education e.V.\",\n",
    "      \"type\": \"Organization\"\n",
    "    },\n",
    "    \"dateCreated\": \"2020-09-24T14:29:51+00:00\",\n",
    "    \"dateModified\": \"2020-09-24T14:34:11+00:00\",\n",
    "    \"isFamilyFriendly\": True,\n",
    "    \"mainEntityOfPage\": [\n",
    "      {\n",
    "        \"id\": \"https://serlo.org/metadata\",\n",
    "        \"type\": \"WebContent\",\n",
    "        \"provider\": {\n",
    "          \"id\": \"https://serlo.org/organization\",\n",
    "          \"name\": \"Serlo Education e.V.\",\n",
    "          \"type\": \"Organization\"\n",
    "        },\n",
    "        \"dateCreated\": \"2024-02-28T00:09:43.667Z\",\n",
    "        \"dateModified\": \"2024-02-28T00:09:43.667Z\"\n",
    "      }\n",
    "    ],\n",
    "    \"isAccessibleForFree\": True,\n",
    "    \"learningResourceType\": [\n",
    "      {\n",
    "        \"id\": \"http://w3id.org/openeduhub/vocabs/new_lrt/a33ef73d-9210-4305-97f9-7357bbf43486\"\n",
    "      }\n",
    "    ]\n",
    "}\n",
    "\n",
    "source_id = \"d8f481cb-3be6-4a91-9f5b-c22b35b918ae\""
   ]
  },
  {
   "cell_type": "markdown",
   "id": "131db742",
   "metadata": {},
   "source": [
    "# Get id from external id"
   ]
  },
  {
   "cell_type": "code",
   "execution_count": 13,
   "id": "61013c32",
   "metadata": {},
   "outputs": [
    {
     "name": "stdout",
     "output_type": "stream",
     "text": [
      "{\"id\":\"c6faa97c-3f62-4e45-9368-b0359f0e0fcb\",\"title\":\"Aufgabe aus \\\"Teil A\\\"\",\"description\":\"\",\"externalId\":\"https://serlo.org/178983\",\"sourceId\":\"d8f481cb-3be6-4a91-9f5b-c22b35b918ae\",\"metadata\":{\"Amb\":{\"id\":\"https://serlo.org/178983\",\"name\":\"Aufgabe aus \\\"Teil A\\\"\",\"type\":[\"LearningResource\",\"Quiz\"],\"about\":[{\"id\":\"http://w3id.org/kim/schulfaecher/s1017\",\"type\":\"Concept\",\"inScheme\":{\"id\":\"http://w3id.org/kim/schulfaecher/\"}}],\"image\":\"https://de.serlo.org/_assets/img/meta/mathe.png\",\"creator\":[{\"id\":\"https://serlo.org/73435\",\"name\":\"kathongi\",\"type\":\"Person\",\"affiliation\":{\"id\":\"https://serlo.org/organization\",\"name\":\"Serlo Education e.V.\",\"type\":\"Organization\"}}],\"license\":{\"id\":\"https://creativecommons.org/licenses/by-sa/4.0/deed.de\"},\"version\":{\"id\":\"https://serlo.org/178986\"},\"@context\":[\"https://w3id.org/kim/amb/context.jsonld\",\"https://schema.org\",{\"@language\":\"de\"}],\"isPartOf\":[{\"id\":\"https://serlo.org/178171\"}],\"publisher\":[{\"id\":\"https://serlo.org/organization\",\"name\":\"Serlo Education e.V.\",\"type\":\"Organization\"}],\"identifier\":{\"type\":\"PropertyValue\",\"value\":178983,\"propertyID\":\"UUID\"},\"inLanguage\":[\"de\"],\"maintainer\":{\"id\":\"https://serlo.org/organization\",\"name\":\"Serlo Education e.V.\",\"type\":\"Organization\"},\"dateCreated\":\"2020-09-24T14:29:51+00:00\",\"dateModified\":\"2020-09-24T14:34:11+00:00\",\"isFamilyFriendly\":true,\"mainEntityOfPage\":[{\"id\":\"https://serlo.org/metadata\",\"type\":\"WebContent\",\"provider\":{\"id\":\"https://serlo.org/organization\",\"name\":\"Serlo Education e.V.\",\"type\":\"Organization\"},\"dateCreated\":\"2024-02-28T00:09:43.667Z\",\"dateModified\":\"2024-02-28T00:09:43.667Z\"}],\"isAccessibleForFree\":true,\"learningResourceType\":[{\"id\":\"http://w3id.org/openeduhub/vocabs/new_lrt/a33ef73d-9210-4305-97f9-7357bbf43486\"}]}},\"class\":\"LearningOpportunity\",\"min\":0,\"max\":null,\"_embedded\":{\"headEdges\":[],\"tailEdges\":[]},\"_links\":{\"self\":{\"href\":\"https://dam.demo.meinbildungsraum.de/datenraum/api/core/nodes/c6faa97c-3f62-4e45-9368-b0359f0e0fcb\"},\"headNodes\":[],\"tailNodes\":[],\"childNodes\":null}}"
     ]
    }
   ],
   "source": [
    "from urllib.parse import urlencode\n",
    "\n",
    "params = urlencode({ \"externalId\": record[\"id\"] })\n",
    "\n",
    "!curl -X 'GET' \\\n",
    "  '{BASE_URL}/api/core/nodes/external/{source_id}?{params}' \\\n",
    "  -H 'accept: application/json' \\\n",
    "  -H 'Authorization: Bearer {get_token()}'"
   ]
  },
  {
   "cell_type": "markdown",
   "id": "c74be246",
   "metadata": {},
   "source": [
    "# Update node"
   ]
  },
  {
   "cell_type": "code",
   "execution_count": 25,
   "id": "804f86ed",
   "metadata": {},
   "outputs": [],
   "source": [
    "import json\n",
    "\n",
    "record[\"description\"] = \"Example description\"\n",
    "\n",
    "data = json.dumps({\n",
    "    \"title\": record[\"name\"],\n",
    "    \"description\": record[\"description\"],\n",
    "    \"externalId\": record[\"id\"],\n",
    "    \"sourceId\": source_id,\n",
    "    \"nodeClass\": \"LearningOpportunity\",\n",
    "    \"metadata\": { \"Amb\": record }\n",
    "})\n",
    "\n",
    "!curl -X 'PUT' \\\n",
    "  '{BASE_URL}/api/core/nodes/c6faa97c-3f62-4e45-9368-b0359f0e0fcb?metadataValidation=Amb' \\\n",
    "  -H 'accept: */*' \\\n",
    "  -H 'Authorization: Bearer {get_token()}' \\\n",
    "  -H 'Content-Type: application/json' \\\n",
    "  -d '{data}'"
   ]
  }
 ],
 "metadata": {
  "kernelspec": {
   "display_name": "Python 3 (ipykernel)",
   "language": "python",
   "name": "python3"
  },
  "language_info": {
   "codemirror_mode": {
    "name": "ipython",
    "version": 3
   },
   "file_extension": ".py",
   "mimetype": "text/x-python",
   "name": "python",
   "nbconvert_exporter": "python",
   "pygments_lexer": "ipython3",
   "version": "3.11.4"
  }
 },
 "nbformat": 4,
 "nbformat_minor": 5
}
