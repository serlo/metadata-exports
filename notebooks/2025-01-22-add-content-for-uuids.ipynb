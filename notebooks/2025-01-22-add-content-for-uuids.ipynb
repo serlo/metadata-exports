{
 "cells": [
  {
   "cell_type": "code",
   "execution_count": null,
   "id": "71c6b292-19c0-44f0-b2a9-b41c5de824a6",
   "metadata": {
    "tags": []
   },
   "outputs": [],
   "source": [
    "from getpass import getpass\n",
    "\n",
    "CLIENT_ID = getpass(\"CLIENT_ID_POSTDAM \")\n",
    "CLIENT_SECRET = getpass(\"CLIENT_SECRET_POSTDAM: \")\n",
    "USERNAME = getpass(\"USERNAME_POSTDAM: \")"
   ]
  },
  {
   "cell_type": "code",
   "execution_count": null,
   "id": "c98963ee-9b77-472f-b1d1-e4d590679ce9",
   "metadata": {
    "tags": []
   },
   "outputs": [],
   "source": [
    "import sys\n",
    "import os\n",
    "\n",
    "sys.path.append(os.path.join(os.getcwd(), '..'))\n",
    "\n",
    "from datenraum import *\n",
    "from serlo_api_client import fetch_entity_content"
   ]
  },
  {
   "cell_type": "code",
   "execution_count": null,
   "id": "fffb9c43-380a-4dac-940f-55eb01744078",
   "metadata": {
    "tags": []
   },
   "outputs": [],
   "source": [
    "session = Session(Environment.POSTDAM, Credentials(CLIENT_ID, CLIENT_SECRET))\n",
    "client = Client(session)\n",
    "source = client.create_source(slug=\"serlo\", name=\"Serlo Education e.V.\", organization=\"Serlo Education e.V.\")"
   ]
  },
  {
   "cell_type": "code",
   "execution_count": null,
   "id": "5e709b17-fd28-4198-a940-19850d32bb66",
   "metadata": {
    "tags": []
   },
   "outputs": [],
   "source": [
    "def get_nodes():\n",
    "    nodes = []\n",
    "\n",
    "    while True:\n",
    "        new_nodes = source.get_nodes(offset=len(nodes))\n",
    "\n",
    "        nodes.extend(new_nodes)\n",
    "\n",
    "        if len(new_nodes) == 0:\n",
    "            break\n",
    "    \n",
    "    return nodes\n",
    "\n",
    "nodes = get_nodes()\n",
    "print(f\"{len(nodes)} nodes downloaded from Postdam Datenraum of Serlo\")"
   ]
  },
  {
   "cell_type": "code",
   "execution_count": null,
   "id": "ecda4e2b-ba1d-4e5f-ba3a-a10937908c8e",
   "metadata": {
    "tags": []
   },
   "outputs": [],
   "source": [
    "contents = []\n",
    "\n",
    "for node in nodes:\n",
    "    serlo_uuid = int(node[\"id\"].replace(\"https://serlo.org/\", \"\"))\n",
    "    print(f\"fetching content of {serlo_uuid}\")\n",
    "    response = fetch_entity_content(serlo_uuid)\n",
    "    if \"currentRevision\" in response[\"uuid\"] and (\n",
    "        \"content\" in response[\"uuid\"][\"currentRevision\"]\n",
    "    ):\n",
    "        contents += { \n",
    "            \"id\": node['id']\n",
    "            \"content\": response[\"uuid\"][\"currentRevision\"][\"content\"] \n",
    "        }\n",
    "    # Let's not DDOS our own api\n",
    "    time.sleep(0.2)"
   ]
  },
  {
   "cell_type": "code",
   "execution_count": null,
   "id": "0a3bfc31-b2f7-4961-81de-7d4001228185",
   "metadata": {
    "tags": []
   },
   "outputs": [],
   "source": [
    "with open('public/uuids-content', \"w\", encoding=\"utf-8\") as output_file:\n",
    "    json.dump(nodes, output_file)"
   ]
  }
 ],
 "metadata": {
  "kernelspec": {
   "display_name": "Python 3 (ipykernel)",
   "language": "python",
   "name": "python3"
  },
  "language_info": {
   "codemirror_mode": {
    "name": "ipython",
    "version": 3
   },
   "file_extension": ".py",
   "mimetype": "text/x-python",
   "name": "python",
   "nbconvert_exporter": "python",
   "pygments_lexer": "ipython3",
   "version": "3.11.8"
  }
 },
 "nbformat": 4,
 "nbformat_minor": 5
}
