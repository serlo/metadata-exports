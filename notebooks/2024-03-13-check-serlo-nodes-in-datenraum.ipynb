{
 "cells": [
  {
   "cell_type": "markdown",
   "id": "6041f925",
   "metadata": {},
   "source": [
    "# Load all nodes of Serlo from Datenraum"
   ]
  },
  {
   "cell_type": "code",
   "execution_count": 2,
   "id": "2d761409",
   "metadata": {},
   "outputs": [
    {
     "name": "stdin",
     "output_type": "stream",
     "text": [
      "CLIENT_ID:  ········\n",
      "CLIENT_SECRET:  ········\n"
     ]
    }
   ],
   "source": [
    "from getpass import getpass\n",
    "\n",
    "CLIENT_ID = getpass(\"CLIENT_ID: \")\n",
    "CLIENT_SECRET = getpass(\"CLIENT_SECRET: \")\n",
    "BASE_URL = \"https://dam.demo.meinbildungsraum.de/datenraum\""
   ]
  },
  {
   "cell_type": "code",
   "execution_count": 3,
   "id": "5a4ddda1",
   "metadata": {},
   "outputs": [],
   "source": [
    "import sys\n",
    "import os\n",
    "\n",
    "sys.path.append(os.path.join(os.getcwd(), '..'))\n",
    "\n",
    "from datenraum import *"
   ]
  },
  {
   "cell_type": "code",
   "execution_count": 4,
   "id": "d5d27ece",
   "metadata": {},
   "outputs": [],
   "source": [
    "session = Session(BASE_URL, Credentials(CLIENT_ID, CLIENT_SECRET))\n",
    "client = Client(session)\n",
    "source = client.create_source(slug=\"serlo\", name=\"Serlo Education e.V.\", organization=\"Serlo Education e.V.\")"
   ]
  },
  {
   "cell_type": "code",
   "execution_count": 5,
   "id": "699c7fa3",
   "metadata": {},
   "outputs": [
    {
     "name": "stdout",
     "output_type": "stream",
     "text": [
      "9029 nodes downloaded from Datenraum of Serlo\n"
     ]
    }
   ],
   "source": [
    "nodes = []\n",
    "\n",
    "while True:\n",
    "    new_nodes = source.get_nodes(offset=len(nodes))\n",
    "\n",
    "    nodes.extend(new_nodes)\n",
    "\n",
    "    if len(new_nodes) == 0:\n",
    "        break\n",
    "\n",
    "print(f\"{len(nodes)} nodes downloaded from Datenraum of Serlo\")"
   ]
  },
  {
   "cell_type": "markdown",
   "id": "dca3ca54",
   "metadata": {},
   "source": [
    "# Check that `inLanguage == @language`"
   ]
  },
  {
   "cell_type": "code",
   "execution_count": 6,
   "id": "db66fb9c",
   "metadata": {},
   "outputs": [
    {
     "name": "stdout",
     "output_type": "stream",
     "text": [
      "✅ All Serlo nodes in Datenraum have `@language == inLanguage`\n"
     ]
    }
   ],
   "source": [
    "def language_is_inLanguage(node):\n",
    "    amb = node[\"metadata\"][\"Amb\"]\n",
    "    language = [x for x in amb[\"@context\"] if \"@language\" in x][0][\"@language\"]\n",
    "    \n",
    "    return amb[\"inLanguage\"][0] == language\n",
    "\n",
    "nodes_with_conflicting_language = [node for node in nodes[:10] if not language_is_inLanguage(node)]\n",
    "\n",
    "if len(nodes_with_conflicting_language) == 0:\n",
    "    print(\"✅ All Serlo nodes in Datenraum have `@language == inLanguage`\")\n",
    "else:\n",
    "    print(f\"❌ There are {len(nodes_with_conflicting_language)} nodes in the Datenraum with `inLanguage != @language`\")\n",
    "    print(json.dumps(nodes_with_conflicting_language, indent=2))"
   ]
  },
  {
   "cell_type": "markdown",
   "id": "6ca542a2",
   "metadata": {},
   "source": [
    "# Check that all nodes have a description"
   ]
  },
  {
   "cell_type": "code",
   "execution_count": 7,
   "id": "daedafa1",
   "metadata": {},
   "outputs": [
    {
     "name": "stdout",
     "output_type": "stream",
     "text": [
      "✅ All Serlo nodes in Datenraum have a description\n"
     ]
    }
   ],
   "source": [
    "import json\n",
    "\n",
    "def has_description(node):\n",
    "    amb = node[\"metadata\"][\"Amb\"]\n",
    "    \n",
    "    return \"description\" in amb and amb[\"description\"]\n",
    "\n",
    "nodes_with_description = [node for node in nodes if not has_description(node)]\n",
    "\n",
    "\n",
    "if len(nodes_with_description) == 0:\n",
    "    print(\"✅ All Serlo nodes in Datenraum have a description\")\n",
    "else:\n",
    "    print(f\"❌ There are {len(nodes_with_description)} nodes in the Datenraum without a description\")\n",
    "    print(json.dumps(nodes_with_description, indent=2))"
   ]
  }
 ],
 "metadata": {
  "kernelspec": {
   "display_name": "Python 3 (ipykernel)",
   "language": "python",
   "name": "python3"
  },
  "language_info": {
   "codemirror_mode": {
    "name": "ipython",
    "version": 3
   },
   "file_extension": ".py",
   "mimetype": "text/x-python",
   "name": "python",
   "nbconvert_exporter": "python",
   "pygments_lexer": "ipython3",
   "version": "3.11.4"
  }
 },
 "nbformat": 4,
 "nbformat_minor": 5
}
